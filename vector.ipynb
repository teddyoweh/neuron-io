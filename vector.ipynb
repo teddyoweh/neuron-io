{
 "cells": [
  {
   "cell_type": "code",
   "execution_count": 2,
   "metadata": {},
   "outputs": [
    {
     "name": "stdout",
     "output_type": "stream",
     "text": [
      "\u001b[1mvector.c:68:34: \u001b[0m\u001b[0;1;35mwarning: \u001b[0m\u001b[1msizeof on array function parameter will return size of 'VocabStore *' instead of 'VocabStore[]' [-Wsizeof-array-argument]\u001b[0m\n",
      "    int vocab_store_size = sizeof(vocab_store) / sizeof(vocab_store[0]);\n",
      "\u001b[0;1;32m                                 ^\n",
      "\u001b[0m\u001b[1mvector.c:67:47: \u001b[0m\u001b[0;1;30mnote: \u001b[0mdeclared here\u001b[0m\n",
      "int c_fit_vectorize(char* texts[], VocabStore vocab_store[]) {\n",
      "\u001b[0;1;32m                                              ^\n",
      "\u001b[0m\u001b[1mvector.c:68:48: \u001b[0m\u001b[0;1;35mwarning: \u001b[0m\u001b[1m'sizeof (vocab_store)' will return the size of the pointer, not the array itself [-Wsizeof-pointer-div]\u001b[0m\n",
      "    int vocab_store_size = sizeof(vocab_store) / sizeof(vocab_store[0]);\n",
      "\u001b[0;1;32m                           ~~~~~~~~~~~~~~~~~~~ ^\n",
      "\u001b[0m\u001b[1mvector.c:67:47: \u001b[0m\u001b[0;1;30mnote: \u001b[0mpointer 'vocab_store' declared here\u001b[0m\n",
      "int c_fit_vectorize(char* texts[], VocabStore vocab_store[]) {\n",
      "\u001b[0;1;32m                                              ^\n",
      "\u001b[0m\u001b[1mvector.c:69:27: \u001b[0m\u001b[0;1;35mwarning: \u001b[0m\u001b[1msizeof on array function parameter will return size of 'char **' instead of 'char *[]' [-Wsizeof-array-argument]\u001b[0m\n",
      "    int text_size = sizeof(texts) / sizeof(texts[0]);\n",
      "\u001b[0;1;32m                          ^\n",
      "\u001b[0m\u001b[1mvector.c:67:27: \u001b[0m\u001b[0;1;30mnote: \u001b[0mdeclared here\u001b[0m\n",
      "int c_fit_vectorize(char* texts[], VocabStore vocab_store[]) {\n",
      "\u001b[0;1;32m                          ^\n",
      "\u001b[0m3 warnings generated.\n"
     ]
    }
   ],
   "source": [
    "!clang -shared -o vector.so vector.c"
   ]
  },
  {
   "cell_type": "code",
   "execution_count": 3,
   "metadata": {},
   "outputs": [],
   "source": [
    "import ctypes\n",
    "import pandas as pd\n",
    "clib = ctypes.CDLL('vector.so')"
   ]
  },
  {
   "cell_type": "code",
   "execution_count": 4,
   "metadata": {},
   "outputs": [],
   "source": [
    "def carray(arr):\n",
    "    return (ctypes.c_char_p * len(arr))()\n",
    "\n",
    "df = pd.read_csv('./twitter_training.csv')\n",
    "df = df.dropna()\n",
    "text_data = df['text']\n"
   ]
  },
  {
   "cell_type": "code",
   "execution_count": 5,
   "metadata": {},
   "outputs": [],
   "source": [
    "\n",
    "clib.c_transform.restype = ctypes.POINTER(ctypes.c_int)\n",
    "clib.c_transform.argtypes = [ctypes.POINTER(ctypes.c_char_p), ctypes.c_int, ctypes.c_int]\n",
    "transform = clib.c_transform\n",
    " \n",
    "store = {}"
   ]
  },
  {
   "cell_type": "code",
   "execution_count": 6,
   "metadata": {},
   "outputs": [],
   "source": [
    "from collections import defaultdict\n",
    "\n",
    "class VocabStore(ctypes.Structure):\n",
    "    _fields_ = [\n",
    "        (\"words\", ctypes.c_char * 1000),\n",
    "        (\"count\", ctypes.c_int)\n",
    "    ]\n",
    "store = defaultdict(int)\n",
    "store[b\"word1\"] = 2\n",
    "store[b\"word2\"] = 5\n",
    "# Add more words and counts as needed\n",
    "\n",
    "vocab_store = (VocabStore * len(store))()\n",
    "for i, (word, count) in enumerate(store.items()):\n",
    "    vocab_store[i].words = word\n",
    "    vocab_store[i].count = count\n"
   ]
  },
  {
   "cell_type": "code",
   "execution_count": 7,
   "metadata": {},
   "outputs": [],
   "source": [
    "texts = [b\"text1\", b\"text2\", b\"text3\"]  # Example texts\n",
    "text_array = (ctypes.c_char_p * len(texts))()\n",
    "text_array[:] = texts\n"
   ]
  },
  {
   "cell_type": "code",
   "execution_count": null,
   "metadata": {},
   "outputs": [
    {
     "ename": "",
     "evalue": "",
     "output_type": "error",
     "traceback": [
      "\u001b[1;31mCanceled future for execute_request message before replies were done"
     ]
    },
    {
     "ename": "",
     "evalue": "",
     "output_type": "error",
     "traceback": [
      "\u001b[1;31mThe Kernel crashed while executing code in the the current cell or a previous cell. Please review the code in the cell(s) to identify a possible cause of the failure. Click <a href='https://aka.ms/vscodeJupyterKernelCrash'>here</a> for more info. View Jupyter <a href='command:jupyter.viewOutput'>log</a> for further details."
     ]
    }
   ],
   "source": [
    "transformed_texts = clib.c_transform(text_array, len(vocab_store), len(texts))\n"
   ]
  },
  {
   "cell_type": "code",
   "execution_count": 19,
   "metadata": {},
   "outputs": [
    {
     "data": {
      "text/plain": [
       "c_int(643845136)"
      ]
     },
     "execution_count": 19,
     "metadata": {},
     "output_type": "execute_result"
    }
   ],
   "source": [
    "transformed_texts.contents"
   ]
  },
  {
   "cell_type": "code",
   "execution_count": 17,
   "metadata": {},
   "outputs": [
    {
     "data": {
      "text/plain": [
       "[643845136, 1, 644005360]"
      ]
     },
     "execution_count": 17,
     "metadata": {},
     "output_type": "execute_result"
    }
   ],
   "source": [
    "transformed_texts_list = [transformed_texts[i] for i in range(len(texts))]\n",
    "transformed_texts_list"
   ]
  },
  {
   "cell_type": "code",
   "execution_count": 8,
   "metadata": {},
   "outputs": [],
   "source": [
    "\n",
    "import ctypes\n",
    "class BuildVectors(object):\n",
    "    def __init__(self):\n",
    "        self.clib = ctypes.CDLL('./vector.so')\n",
    "        self.c_transform = self.clib.c_transform\n",
    "        self.c_transform.argtypes = [ctypes.POINTER(ctypes.c_char_p),ctypes.c_int]\n",
    "        #self.c_transform.restype=None\n",
    "    def transform(self,texts):\n",
    "        pass\n",
    "\n"
   ]
  },
  {
   "cell_type": "code",
   "execution_count": 10,
   "metadata": {},
   "outputs": [
    {
     "ename": "NameError",
     "evalue": "name 'VocabStore' is not defined",
     "output_type": "error",
     "traceback": [
      "\u001b[0;31m---------------------------------------------------------------------------\u001b[0m",
      "\u001b[0;31mNameError\u001b[0m                                 Traceback (most recent call last)",
      "Cell \u001b[0;32mIn[10], line 1\u001b[0m\n\u001b[0;32m----> 1\u001b[0m vocab_store \u001b[39m=\u001b[39m (VocabStore \u001b[39m*\u001b[39m \u001b[39mlen\u001b[39m(store))()\n\u001b[1;32m      2\u001b[0m \u001b[39mfor\u001b[39;00m i, (word, count) \u001b[39min\u001b[39;00m \u001b[39menumerate\u001b[39m(store\u001b[39m.\u001b[39mitems()):\n\u001b[1;32m      3\u001b[0m     vocab_store[i]\u001b[39m.\u001b[39mwords \u001b[39m=\u001b[39m word\n",
      "\u001b[0;31mNameError\u001b[0m: name 'VocabStore' is not defined"
     ]
    }
   ],
   "source": []
  },
  {
   "cell_type": "code",
   "execution_count": null,
   "metadata": {},
   "outputs": [],
   "source": []
  }
 ],
 "metadata": {
  "kernelspec": {
   "display_name": "Python 3",
   "language": "python",
   "name": "python3"
  },
  "language_info": {
   "codemirror_mode": {
    "name": "ipython",
    "version": 3
   },
   "file_extension": ".py",
   "mimetype": "text/x-python",
   "name": "python",
   "nbconvert_exporter": "python",
   "pygments_lexer": "ipython3",
   "version": "3.11.2"
  },
  "orig_nbformat": 4
 },
 "nbformat": 4,
 "nbformat_minor": 2
}
